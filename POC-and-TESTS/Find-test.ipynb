{
 "cells": [
  {
   "cell_type": "code",
   "execution_count": 1,
   "id": "72d4ef03-cb30-45fc-81b3-377650de23da",
   "metadata": {},
   "outputs": [],
   "source": [
    "import sys\n",
    "sys.path.append(\"..\")\n",
    "import msgspec\n",
    "import faker\n",
    "from tqdm.auto import tqdm\n",
    "from typing import Any, cast\n",
    "import pickle\n",
    "import gc\n",
    "import random\n"
   ]
  },
  {
   "cell_type": "code",
   "execution_count": 2,
   "id": "a1fb1efc-409d-403a-b17b-b46524fe9691",
   "metadata": {},
   "outputs": [],
   "source": [
    "fake = faker.Faker(\"ru_RU\")"
   ]
  },
  {
   "cell_type": "code",
   "execution_count": 3,
   "id": "aa1ffe77-70f6-4676-b345-1bd5e23089ce",
   "metadata": {},
   "outputs": [],
   "source": [
    "from dkvs.bptree import BPTree\n",
    "BPTree.HALF_INODE_SIZE = 32\n",
    "BPTree.MAX_INODE_SIZE = BPTree.HALF_INODE_SIZE * 2\n",
    "BPTree.HALF_LEAF_SIZE = 128\n",
    "BPTree.MAX_LEAF_SIZE = BPTree.HALF_LEAF_SIZE * 2"
   ]
  },
  {
   "cell_type": "code",
   "execution_count": 4,
   "id": "c8b344ef-3b4f-4fb9-9ebe-2fc1b6b4403c",
   "metadata": {},
   "outputs": [],
   "source": [
    "class MyKey(msgspec.Struct, frozen=True, order=True):\n",
    "    full_name: str\n",
    "\n",
    "class Data(msgspec.Struct):\n",
    "    data: Any"
   ]
  },
  {
   "cell_type": "code",
   "execution_count": 5,
   "id": "7734c208-2817-4000-966b-4401c06c8a77",
   "metadata": {},
   "outputs": [],
   "source": [
    "index = BPTree[MyKey, Data]()"
   ]
  },
  {
   "cell_type": "code",
   "execution_count": 6,
   "id": "14260fda-692c-4f75-9d16-ec4fa6c7632b",
   "metadata": {},
   "outputs": [],
   "source": [
    "faker.Faker.seed(1)\n",
    "fake = faker.Faker(\"ru_RU\")"
   ]
  },
  {
   "cell_type": "code",
   "execution_count": 7,
   "id": "b59c34b6-b748-4395-993b-033e69e7f8a3",
   "metadata": {},
   "outputs": [
    {
     "data": {
      "text/plain": [
       "340"
      ]
     },
     "execution_count": 7,
     "metadata": {},
     "output_type": "execute_result"
    }
   ],
   "source": [
    "data = []\n",
    "gc.collect()"
   ]
  },
  {
   "cell_type": "code",
   "execution_count": 8,
   "id": "eaf73f3f-b6f2-45ac-9986-ef552a91285a",
   "metadata": {},
   "outputs": [
    {
     "data": {
      "application/vnd.jupyter.widget-view+json": {
       "model_id": "65159b08517346dcb43e8f056e0c6cf9",
       "version_major": 2,
       "version_minor": 0
      },
      "text/plain": [
       "  0%|          | 0/10000000 [00:00<?, ?it/s]"
      ]
     },
     "metadata": {},
     "output_type": "display_data"
    },
    {
     "name": "stdout",
     "output_type": "stream",
     "text": [
      "CPU times: user 9min 57s, sys: 10.3 s, total: 10min 7s\n",
      "Wall time: 10min 3s\n"
     ]
    }
   ],
   "source": [
    "%%time\n",
    "for i in tqdm(range(10_000_000)):\n",
    "    random_int = fake.random_int(0, 99_999_999)\n",
    "    val = f\"{random_int:010} \" + fake.name()\n",
    "    result = index.insert(MyKey(val))\n",
    "    if result[0] is None:\n",
    "        print(f\"Duplicate key: {val}: {result[1]}\")\n",
    "    data.append(val)"
   ]
  },
  {
   "cell_type": "code",
   "execution_count": 9,
   "id": "6d51dbba-4fb0-4139-8bd8-f169e48fc085",
   "metadata": {},
   "outputs": [
    {
     "data": {
      "text/plain": [
       "({}, 18)"
      ]
     },
     "execution_count": 9,
     "metadata": {},
     "output_type": "execute_result"
    }
   ],
   "source": [
    "index.validate(), gc.collect()"
   ]
  },
  {
   "cell_type": "code",
   "execution_count": 10,
   "id": "cc51a977-d5ea-483e-9d0e-62c900cbdf5d",
   "metadata": {},
   "outputs": [
    {
     "data": {
      "text/plain": [
       "(None, None, None)"
      ]
     },
     "execution_count": 10,
     "metadata": {},
     "output_type": "execute_result"
    }
   ],
   "source": [
    "index.find(MyKey('xxx'))"
   ]
  },
  {
   "cell_type": "code",
   "execution_count": 19,
   "id": "ce1863a0-0c5e-4ed1-94b3-b2eb64461f6b",
   "metadata": {},
   "outputs": [
    {
     "name": "stdout",
     "output_type": "stream",
     "text": [
      "5.66 µs ± 87.8 ns per loop (mean ± std. dev. of 7 runs, 100,000 loops each)\n"
     ]
    }
   ],
   "source": [
    "%%timeit\n",
    "index.find(MyKey('0001677529 Шаров Леонтий Филатович'))"
   ]
  },
  {
   "cell_type": "code",
   "execution_count": 12,
   "id": "b03d008c-8bdc-40ca-a9c4-71a738d7c6a8",
   "metadata": {},
   "outputs": [
    {
     "name": "stdout",
     "output_type": "stream",
     "text": [
      "\n",
      "node-idx:3887, prev:None, next:None, level: 3  <============ *ROOT*\n",
      "         |-> MyKey(full_name='0003669152 Фадеев Мечислав Демидович'): 68, 50389\n",
      "         |-> MyKey(full_name='0006732412 Субботина Мария Федоровна'): 50389, 26997\n",
      "         |-> MyKey(full_name='0009781365 Мария Юрьевна Третьякова'): 26997, 58479\n",
      "         |-> MyKey(full_name='0012902097 Антип Филиппович Савин'): 58479, 14132\n",
      "         |-> MyKey(full_name='0015841405 Епифан Абрамович Самойлов'): 14132, 58390\n",
      "         |-> MyKey(full_name='0018982670 Антонина Юрьевна Некрасова'): 58390, 28394\n",
      "         |-> MyKey(full_name='0021751907 Чернова Ираида Сергеевна'): 28394, 58048\n",
      "         |-> MyKey(full_name='0024692102 Лукьян Федосеевич Ершов'): 58048, 7059\n",
      "         |-> MyKey(full_name='0027870494 Кононова Варвара Наумовна'): 7059, 53046\n",
      "         |-> MyKey(full_name='0031125905 Надежда Викторовна Шилова'): 53046, 26795\n",
      "         |-> MyKey(full_name='0034584616 Якушев Степан Богданович'): 26795, 50913\n",
      "         |-> MyKey(full_name='0037992508 Наина Филипповна Носова'): 50913, 13637\n",
      "         |-> MyKey(full_name='0043621308 Котов Демид Иларионович'): 13637, 29957\n",
      "         |-> MyKey(full_name='0046911520 Кузьма Давидович Казаков'): 29957, 58667\n",
      "         |-> MyKey(full_name='0050274771 Данилов Дорофей Ерофеевич'): 58667, 3886\n",
      "         |-> MyKey(full_name='0056107405 Антонова Ксения Робертовна'): 3886, 28883\n",
      "         |-> MyKey(full_name='0059047293 Майя Эльдаровна Воронцова'): 28883, 56869\n",
      "         |-> MyKey(full_name='0062160816 Олимпиада Руслановна Третьякова'): 56869, 15048\n",
      "         |-> MyKey(full_name='0067956754 Третьякова Ия Степановна'): 15048, 28522\n",
      "         |-> MyKey(full_name='0070687569 Журавлева Агафья Святославовна'): 28522, 57668\n",
      "         |-> MyKey(full_name='0073764999 Потапова Евдокия Евгеньевна'): 57668, 7640\n",
      "         |-> MyKey(full_name='0076919222 Валерия Константиновна Гаврилова'): 7640, 55822\n",
      "         |-> MyKey(full_name='0080529984 Владимир Фёдорович Стрелков'): 55822, 29274\n",
      "         |-> MyKey(full_name='0083794337 Наумов Венедикт Исидорович'): 29274, 55597\n",
      "         |-> MyKey(full_name='0086973201 Елизавета Робертовна Шестакова'): 55597, 14674\n",
      "         |-> MyKey(full_name='0089992639 Фадеев Бажен Ефремович'): 14674, 51366\n",
      "         |-> MyKey(full_name='0093645804 Котов Христофор Ефремович'): 51366, 25764\n",
      "         |-> MyKey(full_name='0096737787 Емельян Филимонович Кондратьев'): 25764, 48298\n"
     ]
    }
   ],
   "source": [
    "index.print_node(index.tree[index.root_node])"
   ]
  },
  {
   "cell_type": "code",
   "execution_count": 13,
   "id": "1adbf55c-fd2b-4f5b-98a2-d22038f8a108",
   "metadata": {},
   "outputs": [
    {
     "data": {
      "text/plain": [
       "MyKey(full_name='0000000000 Максимова Марфа Альбертовна')"
      ]
     },
     "execution_count": 13,
     "metadata": {},
     "output_type": "execute_result"
    }
   ],
   "source": [
    "index.min()[1]"
   ]
  },
  {
   "cell_type": "code",
   "execution_count": 14,
   "id": "e6c096ce-f3ec-4f1f-8182-1b81e4470ea7",
   "metadata": {},
   "outputs": [
    {
     "data": {
      "text/plain": [
       "MyKey(full_name='0099999997 Антонина Леоновна Костина')"
      ]
     },
     "execution_count": 14,
     "metadata": {},
     "output_type": "execute_result"
    }
   ],
   "source": [
    "index.max()[1]"
   ]
  },
  {
   "cell_type": "code",
   "execution_count": 15,
   "id": "d8ec6b2e-07da-4b90-841c-7b2cff39b839",
   "metadata": {},
   "outputs": [
    {
     "data": {
      "text/plain": [
       "['0018034063 Брагина Ангелина Ждановна',\n",
       " '0015826780 тов. Воронов Натан Глебович',\n",
       " '0012597620 Никита Феликсович Кошелев',\n",
       " '0000282669 Федотова Елизавета Эдуардовна',\n",
       " '0013720696 Алевтина Архиповна Козлова',\n",
       " '0087180606 Субботина Марина Даниловна',\n",
       " '0056655527 Лобанова Елена Павловна',\n",
       " '0066546792 Коновалова Елизавета Дмитриевна',\n",
       " '0061686932 Акулина Николаевна Дьячкова',\n",
       " '0074686034 Антонина Геннадиевна Евдокимова']"
      ]
     },
     "execution_count": 15,
     "metadata": {},
     "output_type": "execute_result"
    }
   ],
   "source": [
    "data[0:10]"
   ]
  },
  {
   "cell_type": "code",
   "execution_count": 16,
   "id": "4ac8d89d-e6d6-4351-9977-b45f8669379a",
   "metadata": {},
   "outputs": [],
   "source": [
    "random.shuffle(data)"
   ]
  },
  {
   "cell_type": "code",
   "execution_count": 17,
   "id": "a3221a96-6547-4d74-87d5-33bf4319ee87",
   "metadata": {},
   "outputs": [
    {
     "name": "stdout",
     "output_type": "stream",
     "text": [
      "Done!\n",
      "CPU times: user 2min 58s, sys: 0 ns, total: 2min 58s\n",
      "Wall time: 2min 58s\n"
     ]
    }
   ],
   "source": [
    "%%time\n",
    "for k in data:\n",
    "    id = index.find(MyKey(k))[0]\n",
    "    if id is not None:\n",
    "        pass\n",
    "        # print(f\"found: {id} -> {index.keys[id]}\")\n",
    "    else:\n",
    "        index.find(k)\n",
    "        print(f\"Key: {k} not found\")\n",
    "\n",
    "print(\"Done!\")"
   ]
  },
  {
   "cell_type": "code",
   "execution_count": 23,
   "id": "63bf5887-9f0c-49d7-bbae-d013d23f0a3a",
   "metadata": {},
   "outputs": [
    {
     "data": {
      "text/plain": [
       "56179"
      ]
     },
     "execution_count": 23,
     "metadata": {},
     "output_type": "execute_result"
    }
   ],
   "source": [
    "len(data) // (180 - 2)"
   ]
  },
  {
   "cell_type": "code",
   "execution_count": 22,
   "id": "23611710-8bd6-49e8-8556-eccec2f4bfc1",
   "metadata": {},
   "outputs": [
    {
     "data": {
      "text/plain": [
       "1000000.0"
      ]
     },
     "execution_count": 22,
     "metadata": {},
     "output_type": "execute_result"
    }
   ],
   "source": [
    "1000000000/1000\n"
   ]
  },
  {
   "cell_type": "code",
   "execution_count": null,
   "id": "aadbc2bb-b0ef-4dc2-b4af-8a92a69591b4",
   "metadata": {},
   "outputs": [],
   "source": []
  }
 ],
 "metadata": {
  "kernelspec": {
   "display_name": "Python 3 (ipykernel)",
   "language": "python",
   "name": "python3"
  },
  "language_info": {
   "codemirror_mode": {
    "name": "ipython",
    "version": 3
   },
   "file_extension": ".py",
   "mimetype": "text/x-python",
   "name": "python",
   "nbconvert_exporter": "python",
   "pygments_lexer": "ipython3",
   "version": "3.12.2"
  }
 },
 "nbformat": 4,
 "nbformat_minor": 5
}
