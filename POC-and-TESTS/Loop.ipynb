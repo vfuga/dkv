{
 "cells": [
  {
   "cell_type": "code",
   "execution_count": null,
   "id": "6a79e9ad-6f9b-4bd1-8d97-6888d95a009a",
   "metadata": {},
   "outputs": [],
   "source": []
  }
 ],
 "metadata": {
  "kernelspec": {
   "display_name": "",
   "name": ""
  },
  "language_info": {
   "name": ""
  }
 },
 "nbformat": 4,
 "nbformat_minor": 5
}
