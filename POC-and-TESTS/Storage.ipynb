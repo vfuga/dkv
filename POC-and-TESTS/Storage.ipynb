{
 "cells": [
  {
   "cell_type": "code",
   "execution_count": 89,
   "id": "7c9c9f8b-43bf-4fee-9d85-b50802e5a274",
   "metadata": {},
   "outputs": [],
   "source": [
    "import heapq\n",
    "import msgspec\n",
    "import numpy\n",
    "from typing import Any, List\n",
    "import gc"
   ]
  },
  {
   "cell_type": "code",
   "execution_count": 132,
   "id": "82f4b919-39f8-4a7d-b434-1fd2bc31947e",
   "metadata": {},
   "outputs": [],
   "source": [
    "class Record(msgspec.Struct):\n",
    "    data: bytes = None\n",
    "    def size(self):\n",
    "        return len(self.data)\n",
    "\n",
    "CHANK_MAX_SIZE = 10 * 1024\n",
    "class Chank(msgspec.Struct):\n",
    "    # sizes: numpy.ndarray = numpy.array([], dtype=numpy.int32)\n",
    "    is_dirty: bool = False\n",
    "    sizes: List[int] = []\n",
    "    storage: List[Record] = []\n",
    "    empty_nodes: List[int] = [] # пустые узлы, полученные в результате удаления\n",
    "    free_space: int = CHANK_MAX_SIZE\n",
    "\n",
    "    def __lt__(self, other: 'Chank') -> bool:\n",
    "        return self.free_space < other.free_space\n",
    "        \n",
    "    def add(self, r: Record):\n",
    "        self.is_dirty = True\n",
    "        self.sizes.append(r.size())\n",
    "        self.storage.append(r)\n",
    "        self.calc_free_space()\n",
    "        \n",
    "    def calc_free_space(self):\n",
    "        self.free_space = CHANK_MAX_SIZE - (len(self.sizes)*32 + sum(self.sizes) + 64)\n",
    "        return self.free_space\n",
    "        "
   ]
  },
  {
   "cell_type": "code",
   "execution_count": 133,
   "id": "175e831b-3f97-44e7-9a0f-2711e68cb099",
   "metadata": {},
   "outputs": [],
   "source": [
    "r = Record(\"8176816632937481-97519863295166235061874bwjhbvjhs\")"
   ]
  },
  {
   "cell_type": "code",
   "execution_count": 134,
   "id": "f14488cb-bbf8-4f2f-ae22-a1e574bea71b",
   "metadata": {},
   "outputs": [
    {
     "data": {
      "text/plain": [
       "'{\"data\":\"8176816632937481-97519863295166235061874bwjhbvjhs\"}'"
      ]
     },
     "execution_count": 134,
     "metadata": {},
     "output_type": "execute_result"
    }
   ],
   "source": [
    "msgspec.json.encode(msgspec.msgpack.decode(msgspec.msgpack.encode(r))).decode()"
   ]
  },
  {
   "cell_type": "code",
   "execution_count": 135,
   "id": "6fbde3b9-e189-4ae3-8fe7-bf9011723765",
   "metadata": {},
   "outputs": [
    {
     "data": {
      "text/plain": [
       "49"
      ]
     },
     "execution_count": 135,
     "metadata": {},
     "output_type": "execute_result"
    }
   ],
   "source": [
    "r.size()"
   ]
  },
  {
   "cell_type": "code",
   "execution_count": 136,
   "id": "7a1dd578-4ce1-425b-8acc-752832d222fd",
   "metadata": {},
   "outputs": [
    {
     "name": "stdout",
     "output_type": "stream",
     "text": [
      "CPU times: user 16.8 s, sys: 160 ms, total: 17 s\n",
      "Wall time: 16.9 s\n"
     ]
    },
    {
     "data": {
      "text/plain": [
       "52488"
      ]
     },
     "execution_count": 136,
     "metadata": {},
     "output_type": "execute_result"
    }
   ],
   "source": [
    "%%time\n",
    "\n",
    "import string\n",
    "_letters = string.ascii_letters + string.digits # + string.punctuation\n",
    "def random_str() -> str:\n",
    "    cnt = numpy.random.randint(0, len(_letters))\n",
    "    return \"\".join([ _letters[i] for i in numpy.random.randint(0, len(_letters), cnt)])\n",
    "    \n",
    "    \n",
    "chanks = []\n",
    "\n",
    "for i in range(10000):\n",
    "    chank: ch = Chank()\n",
    "    for i in range(numpy.random.randint(300)):\n",
    "        r = Record(random_str())\n",
    "        if chank.free_space > (r.size() + 32 + 64):\n",
    "            chank.add(r)\n",
    "        else:\n",
    "            break\n",
    "    heapq.heappush(chanks, (chank.free_space, chank))\n",
    "\n",
    "gc.collect()"
   ]
  },
  {
   "cell_type": "code",
   "execution_count": 137,
   "id": "a0935747-a09b-4e1c-913e-b116e0bb8dbb",
   "metadata": {},
   "outputs": [
    {
     "ename": "AttributeError",
     "evalue": "'tuple' object has no attribute 'free_space'",
     "output_type": "error",
     "traceback": [
      "\u001b[0;31m---------------------------------------------------------------------------\u001b[0m",
      "\u001b[0;31mAttributeError\u001b[0m                            Traceback (most recent call last)",
      "Cell \u001b[0;32mIn[137], line 1\u001b[0m\n\u001b[0;32m----> 1\u001b[0m [c \u001b[38;5;28;01mfor\u001b[39;00m c \u001b[38;5;129;01min\u001b[39;00m chanks \u001b[38;5;28;01mif\u001b[39;00m \u001b[43mc\u001b[49m\u001b[38;5;241;43m.\u001b[39;49m\u001b[43mfree_space\u001b[49m \u001b[38;5;241m<\u001b[39m \u001b[38;5;241m0\u001b[39m]\n",
      "\u001b[0;31mAttributeError\u001b[0m: 'tuple' object has no attribute 'free_space'"
     ]
    }
   ],
   "source": [
    "[c for c in chanks if c.free_space < 0]"
   ]
  },
  {
   "cell_type": "code",
   "execution_count": 155,
   "id": "daf13b53-7f97-4ac2-a1ce-d18666aff9a6",
   "metadata": {},
   "outputs": [],
   "source": [
    "ch = chanks[3910][1]"
   ]
  },
  {
   "cell_type": "code",
   "execution_count": 156,
   "id": "1bbffad9-8d8c-4c21-bbf3-7a2d7c4d3f37",
   "metadata": {},
   "outputs": [
    {
     "data": {
      "text/plain": [
       "576"
      ]
     },
     "execution_count": 156,
     "metadata": {},
     "output_type": "execute_result"
    }
   ],
   "source": [
    "ch.free_space"
   ]
  },
  {
   "cell_type": "code",
   "execution_count": null,
   "id": "9c719993-9123-4a17-b69e-75e2c24c079c",
   "metadata": {},
   "outputs": [],
   "source": []
  },
  {
   "cell_type": "code",
   "execution_count": 61,
   "id": "a35b5f17-d84a-4025-91ad-530f429aaf78",
   "metadata": {},
   "outputs": [
    {
     "data": {
      "text/plain": [
       "'abcdefghijklmnopqrstuvwxyzABCDEFGHIJKLMNOPQRSTUVWXYZ0123456789!\"#$%&\\'()*+,-./:;<=>?@[\\\\]^_`{|}~'"
      ]
     },
     "execution_count": 61,
     "metadata": {},
     "output_type": "execute_result"
    }
   ],
   "source": [
    "import string\n",
    "string.ascii_letters + string.digits + string.punctuation"
   ]
  },
  {
   "cell_type": "code",
   "execution_count": null,
   "id": "f4bb7374-f08a-41e3-b2da-1165aa6071dd",
   "metadata": {},
   "outputs": [],
   "source": []
  }
 ],
 "metadata": {
  "kernelspec": {
   "display_name": "Python 3 (ipykernel)",
   "language": "python",
   "name": "python3"
  },
  "language_info": {
   "codemirror_mode": {
    "name": "ipython",
    "version": 3
   },
   "file_extension": ".py",
   "mimetype": "text/x-python",
   "name": "python",
   "nbconvert_exporter": "python",
   "pygments_lexer": "ipython3",
   "version": "3.12.2"
  }
 },
 "nbformat": 4,
 "nbformat_minor": 5
}
