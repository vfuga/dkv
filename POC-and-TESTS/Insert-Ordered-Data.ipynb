{
 "cells": [
  {
   "cell_type": "code",
   "execution_count": 1,
   "id": "72d4ef03-cb30-45fc-81b3-377650de23da",
   "metadata": {},
   "outputs": [],
   "source": [
    "import sys\n",
    "sys.path.append(\"..\")\n",
    "import msgspec\n",
    "import faker\n",
    "from tqdm.auto import tqdm\n",
    "from typing import Any, cast\n",
    "import pickle\n",
    "import gc\n",
    "import random\n"
   ]
  },
  {
   "cell_type": "code",
   "execution_count": 2,
   "id": "a1fb1efc-409d-403a-b17b-b46524fe9691",
   "metadata": {},
   "outputs": [],
   "source": [
    "fake = faker.Faker(\"ru_RU\")"
   ]
  },
  {
   "cell_type": "markdown",
   "id": "4ed0ea70-f970-4c82-8547-7d5b96c4db87",
   "metadata": {},
   "source": [
    "**Ожидается, что заполнение узлов будет более полным при вставке упорядоченных данных**"
   ]
  },
  {
   "cell_type": "code",
   "execution_count": 3,
   "id": "aa1ffe77-70f6-4676-b345-1bd5e23089ce",
   "metadata": {},
   "outputs": [],
   "source": [
    "from dkvs.bptree import BPTree\n",
    "BPTree.HALF_INODE_SIZE = 31\n",
    "BPTree.MAX_INODE_SIZE = BPTree.HALF_INODE_SIZE + 1\n",
    "BPTree.HALF_LEAF_SIZE = 125\n",
    "BPTree.MAX_LEAF_SIZE = BPTree.HALF_LEAF_SIZE + 1"
   ]
  },
  {
   "cell_type": "code",
   "execution_count": 4,
   "id": "c8b344ef-3b4f-4fb9-9ebe-2fc1b6b4403c",
   "metadata": {},
   "outputs": [],
   "source": [
    "class MyKey(msgspec.Struct, frozen=True, order=True):\n",
    "    full_name: str\n",
    "\n",
    "class Data(msgspec.Struct):\n",
    "    data: Any"
   ]
  },
  {
   "cell_type": "code",
   "execution_count": 5,
   "id": "7734c208-2817-4000-966b-4401c06c8a77",
   "metadata": {},
   "outputs": [],
   "source": [
    "index = BPTree[MyKey, Data]()"
   ]
  },
  {
   "cell_type": "code",
   "execution_count": 6,
   "id": "14260fda-692c-4f75-9d16-ec4fa6c7632b",
   "metadata": {},
   "outputs": [],
   "source": [
    "faker.Faker.seed(1)\n",
    "fake = faker.Faker(\"ru_RU\")"
   ]
  },
  {
   "cell_type": "code",
   "execution_count": 7,
   "id": "b59c34b6-b748-4395-993b-033e69e7f8a3",
   "metadata": {},
   "outputs": [
    {
     "data": {
      "text/plain": [
       "340"
      ]
     },
     "execution_count": 7,
     "metadata": {},
     "output_type": "execute_result"
    }
   ],
   "source": [
    "data = []\n",
    "gc.collect()"
   ]
  },
  {
   "cell_type": "code",
   "execution_count": 8,
   "id": "eaf73f3f-b6f2-45ac-9986-ef552a91285a",
   "metadata": {},
   "outputs": [
    {
     "data": {
      "application/vnd.jupyter.widget-view+json": {
       "model_id": "1a86d978b9654e9f8f23121cae64bda4",
       "version_major": 2,
       "version_minor": 0
      },
      "text/plain": [
       "  0%|          | 0/10000000 [00:00<?, ?it/s]"
      ]
     },
     "metadata": {},
     "output_type": "display_data"
    },
    {
     "name": "stdout",
     "output_type": "stream",
     "text": [
      "CPU times: user 5min 39s, sys: 6.37 s, total: 5min 46s\n",
      "Wall time: 5min 44s\n"
     ]
    }
   ],
   "source": [
    "%%time\n",
    "for i in tqdm(range(10_000_000)):\n",
    "    # random_int = fake.random_int(0, 99_999_999)\n",
    "    # val = f\"{random_int:010} \" + fake.name()\n",
    "    val = f\"{i:010} \" + fake.name()\n",
    "    result = index.insert(MyKey(val))\n",
    "    if result[0] is None:\n",
    "        print(f\"Duplicate key: {val}: {result[1]}\")\n",
    "    data.append(val)"
   ]
  },
  {
   "cell_type": "markdown",
   "id": "a9031801-5f9b-43f5-86f7-30b2924a5875",
   "metadata": {},
   "source": [
    "**Создание дерева выполнилось практически в 2 раза быстрее**"
   ]
  },
  {
   "cell_type": "code",
   "execution_count": 9,
   "id": "6d51dbba-4fb0-4139-8bd8-f169e48fc085",
   "metadata": {},
   "outputs": [
    {
     "data": {
      "text/plain": [
       "({}, 18)"
      ]
     },
     "execution_count": 9,
     "metadata": {},
     "output_type": "execute_result"
    }
   ],
   "source": [
    "index.validate(), gc.collect()"
   ]
  },
  {
   "cell_type": "code",
   "execution_count": 10,
   "id": "cc51a977-d5ea-483e-9d0e-62c900cbdf5d",
   "metadata": {},
   "outputs": [
    {
     "data": {
      "text/plain": [
       "(None, None, None)"
      ]
     },
     "execution_count": 10,
     "metadata": {},
     "output_type": "execute_result"
    }
   ],
   "source": [
    "index.find(MyKey('xxx'))"
   ]
  },
  {
   "cell_type": "code",
   "execution_count": 11,
   "id": "ce1863a0-0c5e-4ed1-94b3-b2eb64461f6b",
   "metadata": {},
   "outputs": [
    {
     "name": "stdout",
     "output_type": "stream",
     "text": [
      "9.96 µs ± 125 ns per loop (mean ± std. dev. of 7 runs, 100,000 loops each)\n"
     ]
    }
   ],
   "source": [
    "%%timeit\n",
    "index.find(MyKey('0001677529 Шаров Леонтий Филатович'))"
   ]
  },
  {
   "cell_type": "code",
   "execution_count": 12,
   "id": "19db671c-8b5f-4495-b7e3-59628f906e28",
   "metadata": {},
   "outputs": [
    {
     "data": {
      "text/plain": [
       "(None, None, None)"
      ]
     },
     "execution_count": 12,
     "metadata": {},
     "output_type": "execute_result"
    }
   ],
   "source": [
    "index.find(MyKey('0001677529 Шаров Леонтий Филатович'))"
   ]
  },
  {
   "cell_type": "code",
   "execution_count": 15,
   "id": "b03d008c-8bdc-40ca-a9c4-71a738d7c6a8",
   "metadata": {},
   "outputs": [
    {
     "name": "stdout",
     "output_type": "stream",
     "text": [
      "\n",
      "node-idx:0, prev:None, next:2, level: 0 \n",
      "|-> MyKey(full_name='0000000000 Сазонов Арсений Дмитриевич')\n",
      "|-> MyKey(full_name='0000000001 Мишин Радим Харитонович')\n",
      "|-> MyKey(full_name='0000000002 Устинова Евфросиния Болеславовна')\n",
      "|-> MyKey(full_name='0000000003 Никита Феликсович Кошелев')\n",
      "|-> MyKey(full_name='0000000004 Агата Петровна Федотова')\n",
      "|-> MyKey(full_name='0000000005 Данилова Феврония Борисовна')\n",
      "|-> MyKey(full_name='0000000006 Алевтина Архиповна Козлова')\n",
      "|-> MyKey(full_name='0000000007 Кузнецова Марина Даниловна')\n",
      "|-> MyKey(full_name='0000000008 Алевтина Станиславовна Полякова')\n",
      "|-> MyKey(full_name='0000000009 Полина Тимуровна Жукова')\n",
      "|-> MyKey(full_name='0000000010 Ефим Фокич Селиверстов')\n",
      "|-> MyKey(full_name='0000000011 Азарий Фёдорович Дьячков')\n",
      "|-> MyKey(full_name='0000000012 Антонина Геннадиевна Евдокимова')\n",
      "|-> MyKey(full_name='0000000013 тов. Ковалева Лора Сергеевна')\n",
      "|-> MyKey(full_name='0000000014 Наталья Сергеевна Никонова')\n",
      "|-> MyKey(full_name='0000000015 Евдокия Кузьминична Боброва')\n",
      "|-> MyKey(full_name='0000000016 Бобылева Полина Сергеевна')\n",
      "|-> MyKey(full_name='0000000017 Ананий Харлампович Николаев')\n",
      "|-> MyKey(full_name='0000000018 Маслова Наина Вячеславовна')\n",
      "|-> MyKey(full_name='0000000019 Мстислав Афанасьевич Быков')\n",
      "|-> MyKey(full_name='0000000020 Киселева Галина Семеновна')\n",
      "|-> MyKey(full_name='0000000021 Маргарита Рудольфовна Гурьева')\n",
      "|-> MyKey(full_name='0000000022 Соловьев Леон Тимурович')\n",
      "|-> MyKey(full_name='0000000023 Романова Прасковья Евгеньевна')\n",
      "|-> MyKey(full_name='0000000024 Евпраксия Тимофеевна Русакова')\n",
      "|-> MyKey(full_name='0000000025 Елизавета Ниловна Копылова')\n",
      "|-> MyKey(full_name='0000000026 Флорентин Ильич Рыбаков')\n",
      "|-> MyKey(full_name='0000000027 Таисия Юльевна Кондратьева')\n",
      "|-> MyKey(full_name='0000000028 Блинова Раиса Владимировна')\n",
      "|-> MyKey(full_name='0000000029 Шилова Евфросиния Олеговна')\n",
      "|-> MyKey(full_name='0000000030 Ольга Михайловна Ермакова')\n",
      "|-> MyKey(full_name='0000000031 Субботина Прасковья Наумовна')\n",
      "|-> MyKey(full_name='0000000032 Мир Фёдорович Коновалов')\n",
      "|-> MyKey(full_name='0000000033 Потапов Ярополк Игнатович')\n",
      "|-> MyKey(full_name='0000000034 Алексей Давыдович Калашников')\n",
      "|-> MyKey(full_name='0000000035 Логинов Дмитрий Бенедиктович')\n",
      "|-> MyKey(full_name='0000000036 Зоя Антоновна Одинцова')\n",
      "|-> MyKey(full_name='0000000037 Анжела Артемовна Беспалова')\n",
      "|-> MyKey(full_name='0000000038 Попов Климент Денисович')\n",
      "|-> MyKey(full_name='0000000039 Ярополк Гаврилович Коновалов')\n",
      "|-> MyKey(full_name='0000000040 Гурий Владиленович Сидоров')\n",
      "|-> MyKey(full_name='0000000041 Романова Ираида Кирилловна')\n",
      "|-> MyKey(full_name='0000000042 Любим Эдуардович Мухин')\n",
      "|-> MyKey(full_name='0000000043 Никифоров Никандр Измаилович')\n",
      "|-> MyKey(full_name='0000000044 Евгений Дорофеевич Киселев')\n",
      "|-> MyKey(full_name='0000000045 Сократ Глебович Меркушев')\n",
      "|-> MyKey(full_name='0000000046 Зыкова Акулина Дмитриевна')\n",
      "|-> MyKey(full_name='0000000047 Куликов Анатолий Владиславович')\n",
      "|-> MyKey(full_name='0000000048 Сильвестр Федотович Некрасов')\n",
      "|-> MyKey(full_name='0000000049 Регина Петровна Цветкова')\n",
      "|-> MyKey(full_name='0000000050 Новикова Марфа Филипповна')\n",
      "|-> MyKey(full_name='0000000051 Наталья Аркадьевна Зиновьева')\n",
      "|-> MyKey(full_name='0000000052 Еремей Анисимович Тимофеев')\n",
      "|-> MyKey(full_name='0000000053 Воробьев Леонид Ефимович')\n",
      "|-> MyKey(full_name='0000000054 Аксенова Татьяна Ждановна')\n",
      "|-> MyKey(full_name='0000000055 Шилов Андрей Григорьевич')\n",
      "|-> MyKey(full_name='0000000056 Татьяна Робертовна Романова')\n",
      "|-> MyKey(full_name='0000000057 Юлия Степановна Петрова')\n",
      "|-> MyKey(full_name='0000000058 Милан Бориславович Ершов')\n",
      "|-> MyKey(full_name='0000000059 Самсонова Нина Эдуардовна')\n",
      "|-> MyKey(full_name='0000000060 Орлов Никита Ерофеевич')\n",
      "|-> MyKey(full_name='0000000061 Соколова Лидия Юрьевна')\n",
      "|-> MyKey(full_name='0000000062 Ия Архиповна Яковлева')\n",
      "|-> MyKey(full_name='0000000063 Большаков Феоктист Венедиктович')\n",
      "|-> MyKey(full_name='0000000064 Ермил Евстигнеевич Муравьев')\n",
      "|-> MyKey(full_name='0000000065 Щербаков Трофим Изотович')\n",
      "|-> MyKey(full_name='0000000066 Синклитикия Рудольфовна Комиссарова')\n",
      "|-> MyKey(full_name='0000000067 Жанна Афанасьевна Владимирова')\n",
      "|-> MyKey(full_name='0000000068 Кузьмин Давыд Владленович')\n",
      "|-> MyKey(full_name='0000000069 Екатерина Ивановна Мишина')\n",
      "|-> MyKey(full_name='0000000070 Сильвестр Дмитриевич Фомин')\n",
      "|-> MyKey(full_name='0000000071 Викентий Ермолаевич Фролов')\n",
      "|-> MyKey(full_name='0000000072 Элеонора Рудольфовна Кузьмина')\n",
      "|-> MyKey(full_name='0000000073 Мамонтова Валентина Леонидовна')\n",
      "|-> MyKey(full_name='0000000074 Богданов Натан Виленович')\n",
      "|-> MyKey(full_name='0000000075 Лукия Вадимовна Горбачева')\n",
      "|-> MyKey(full_name='0000000076 Гущина Марина Анатольевна')\n",
      "|-> MyKey(full_name='0000000077 Цветкова Татьяна Артемовна')\n",
      "|-> MyKey(full_name='0000000078 Майя Кирилловна Воронцова')\n",
      "|-> MyKey(full_name='0000000079 Андреева Оксана Игоревна')\n",
      "|-> MyKey(full_name='0000000080 Соловьев Лавр Авдеевич')\n",
      "|-> MyKey(full_name='0000000081 Попова Анна Наумовна')\n",
      "|-> MyKey(full_name='0000000082 Доронин Андрон Геннадиевич')\n",
      "|-> MyKey(full_name='0000000083 Сафонов Пантелеймон Владиславович')\n",
      "|-> MyKey(full_name='0000000084 Сергеев Иларион Владиленович')\n",
      "|-> MyKey(full_name='0000000085 Орлова Нина Мироновна')\n",
      "|-> MyKey(full_name='0000000086 София Кирилловна Хохлова')\n",
      "|-> MyKey(full_name='0000000087 Самсон Жанович Комаров')\n",
      "|-> MyKey(full_name='0000000088 Филиппов Андрон Адрианович')\n",
      "|-> MyKey(full_name='0000000089 Стрелков Лавр Жоресович')\n",
      "|-> MyKey(full_name='0000000090 Лонгин Трифонович Голубев')\n",
      "|-> MyKey(full_name='0000000091 Филиппов Эмиль Филиппович')\n",
      "|-> MyKey(full_name='0000000092 Рябов Ян Харитонович')\n",
      "|-> MyKey(full_name='0000000093 Осипова Евгения Тимофеевна')\n",
      "|-> MyKey(full_name='0000000094 Лазарев Иосиф Иосипович')\n",
      "|-> MyKey(full_name='0000000095 Матвеев Бронислав Филатович')\n",
      "|-> MyKey(full_name='0000000096 Игнатьев Мартьян Давыдович')\n",
      "|-> MyKey(full_name='0000000097 Леон Анатольевич Большаков')\n",
      "|-> MyKey(full_name='0000000098 Вишняков Фока Ефимьевич')\n",
      "|-> MyKey(full_name='0000000099 Варлаам Бенедиктович Николаев')\n",
      "|-> MyKey(full_name='0000000100 Константинов Илья Трифонович')\n",
      "|-> MyKey(full_name='0000000101 Жданов Аскольд Артемьевич')\n",
      "|-> MyKey(full_name='0000000102 Кузнецов Корнил Ильясович')\n",
      "|-> MyKey(full_name='0000000103 г-н Комаров Сидор Зиновьевич')\n",
      "|-> MyKey(full_name='0000000104 Селиверстов Дементий Вячеславович')\n",
      "|-> MyKey(full_name='0000000105 Вероника Кузьминична Тимофеева')\n",
      "|-> MyKey(full_name='0000000106 Копылов Эраст Ерофеевич')\n",
      "|-> MyKey(full_name='0000000107 Ершов Вячеслав Александрович')\n",
      "|-> MyKey(full_name='0000000108 Юлия Тимуровна Одинцова')\n",
      "|-> MyKey(full_name='0000000109 Евфросиния Вячеславовна Петухова')\n",
      "|-> MyKey(full_name='0000000110 Глеб Анисимович Кулаков')\n",
      "|-> MyKey(full_name='0000000111 Зинаида Ждановна Гуляева')\n",
      "|-> MyKey(full_name='0000000112 Силин Прокофий Феликсович')\n",
      "|-> MyKey(full_name='0000000113 Потапова Нинель Тарасовна')\n",
      "|-> MyKey(full_name='0000000114 Николай Игоревич Романов')\n",
      "|-> MyKey(full_name='0000000115 Аким Фёдорович Туров')\n",
      "|-> MyKey(full_name='0000000116 Семенова Людмила Харитоновна')\n",
      "|-> MyKey(full_name='0000000117 Гусев Всеслав Дорофеевич')\n",
      "|-> MyKey(full_name='0000000118 Ирина Никифоровна Воронцова')\n",
      "|-> MyKey(full_name='0000000119 Юлий Афанасьевич Жуков')\n",
      "|-> MyKey(full_name='0000000120 Демьян Жоресович Овчинников')\n",
      "|-> MyKey(full_name='0000000121 Нинель Дмитриевна Журавлева')\n",
      "|-> MyKey(full_name='0000000122 Самуил Давидович Кулаков')\n",
      "|-> MyKey(full_name='0000000123 Федот Елизарович Лыткин')\n",
      "|-> MyKey(full_name='0000000124 Васильева Анжела Степановна')\n"
     ]
    }
   ],
   "source": [
    "index.print_node(index.tree[0])"
   ]
  },
  {
   "cell_type": "code",
   "execution_count": 16,
   "id": "1adbf55c-fd2b-4f5b-98a2-d22038f8a108",
   "metadata": {},
   "outputs": [
    {
     "data": {
      "text/plain": [
       "MyKey(full_name='0000000000 Сазонов Арсений Дмитриевич')"
      ]
     },
     "execution_count": 16,
     "metadata": {},
     "output_type": "execute_result"
    }
   ],
   "source": [
    "index.min()[1]"
   ]
  },
  {
   "cell_type": "code",
   "execution_count": 17,
   "id": "e6c096ce-f3ec-4f1f-8182-1b81e4470ea7",
   "metadata": {},
   "outputs": [
    {
     "data": {
      "text/plain": [
       "MyKey(full_name='0009999999 Савина Анжелика Егоровна')"
      ]
     },
     "execution_count": 17,
     "metadata": {},
     "output_type": "execute_result"
    }
   ],
   "source": [
    "index.max()[1]"
   ]
  },
  {
   "cell_type": "code",
   "execution_count": 18,
   "id": "d8ec6b2e-07da-4b90-841c-7b2cff39b839",
   "metadata": {},
   "outputs": [
    {
     "data": {
      "text/plain": [
       "['0000000000 Сазонов Арсений Дмитриевич',\n",
       " '0000000001 Мишин Радим Харитонович',\n",
       " '0000000002 Устинова Евфросиния Болеславовна',\n",
       " '0000000003 Никита Феликсович Кошелев',\n",
       " '0000000004 Агата Петровна Федотова',\n",
       " '0000000005 Данилова Феврония Борисовна',\n",
       " '0000000006 Алевтина Архиповна Козлова',\n",
       " '0000000007 Кузнецова Марина Даниловна',\n",
       " '0000000008 Алевтина Станиславовна Полякова',\n",
       " '0000000009 Полина Тимуровна Жукова']"
      ]
     },
     "execution_count": 18,
     "metadata": {},
     "output_type": "execute_result"
    }
   ],
   "source": [
    "data[0:10]"
   ]
  },
  {
   "cell_type": "code",
   "execution_count": 19,
   "id": "4ac8d89d-e6d6-4351-9977-b45f8669379a",
   "metadata": {},
   "outputs": [],
   "source": [
    "random.shuffle(data)"
   ]
  },
  {
   "cell_type": "code",
   "execution_count": 20,
   "id": "a3221a96-6547-4d74-87d5-33bf4319ee87",
   "metadata": {},
   "outputs": [
    {
     "name": "stdout",
     "output_type": "stream",
     "text": [
      "Done!\n",
      "CPU times: user 2min 27s, sys: 7.06 ms, total: 2min 27s\n",
      "Wall time: 2min 27s\n"
     ]
    }
   ],
   "source": [
    "%%time\n",
    "for k in data:\n",
    "    id = index.find(MyKey(k))[0]\n",
    "    if id is not None:\n",
    "        pass\n",
    "        # print(f\"found: {id} -> {index.keys[id]}\")\n",
    "    else:\n",
    "        index.find(k)\n",
    "        print(f\"Key: {k} not found\")\n",
    "\n",
    "print(\"Done!\")"
   ]
  },
  {
   "cell_type": "code",
   "execution_count": 21,
   "id": "63bf5887-9f0c-49d7-bbae-d013d23f0a3a",
   "metadata": {},
   "outputs": [
    {
     "data": {
      "text/plain": [
       "68027"
      ]
     },
     "execution_count": 21,
     "metadata": {},
     "output_type": "execute_result"
    }
   ],
   "source": [
    "len(data) // (2 * 60 + 27)"
   ]
  }
 ],
 "metadata": {
  "kernelspec": {
   "display_name": "Python 3 (ipykernel)",
   "language": "python",
   "name": "python3"
  },
  "language_info": {
   "codemirror_mode": {
    "name": "ipython",
    "version": 3
   },
   "file_extension": ".py",
   "mimetype": "text/x-python",
   "name": "python",
   "nbconvert_exporter": "python",
   "pygments_lexer": "ipython3",
   "version": "3.12.2"
  }
 },
 "nbformat": 4,
 "nbformat_minor": 5
}
