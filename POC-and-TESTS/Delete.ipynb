{
 "cells": [
  {
   "cell_type": "code",
   "execution_count": 1,
   "id": "e7adfa4c-85a8-4857-b772-def38d8f3971",
   "metadata": {},
   "outputs": [],
   "source": [
    "import sys\n",
    "sys.path.append(\"..\")\n",
    "import msgspec\n",
    "import faker\n",
    "from tqdm.auto import tqdm\n",
    "from typing import Any, cast\n",
    "import pickle\n",
    "import gc\n",
    "import datetime\n"
   ]
  },
  {
   "cell_type": "code",
   "execution_count": 2,
   "id": "95260199-0f46-4d44-b445-747116ba86c7",
   "metadata": {},
   "outputs": [],
   "source": [
    "from dkvs.bptree import BPTree "
   ]
  },
  {
   "cell_type": "markdown",
   "id": "368d9ef8-8f1e-4c51-b21c-76e6f0ad3f10",
   "metadata": {},
   "source": [
    "**Даты в обратном порядке**"
   ]
  },
  {
   "cell_type": "code",
   "execution_count": 3,
   "id": "cdd94d76-2481-4610-b829-d4a7538983f2",
   "metadata": {},
   "outputs": [],
   "source": [
    "class Key(msgspec.Struct, frozen=True, order=True):\n",
    "    \n",
    "    k: int\n",
    "    ts: datetime.datetime\n",
    "    \n",
    "    def __lt__(self, other: 'Key') -> bool:\n",
    "        if self.k < other.k:\n",
    "            return True\n",
    "        if self.k == other.k:\n",
    "            if self.ts > other.ts:   # reverse order\n",
    "                return True\n",
    "        return False\n",
    "\n",
    "    def __gt__(self, other) -> bool:\n",
    "        if other < self:\n",
    "            return True\n",
    "        return other < self\n",
    "\n",
    "    def __le__(self, other) -> bool:\n",
    "        if (self < other) or (self == other):\n",
    "            return True\n",
    "        return False\n",
    "\n",
    "    def __ge__(self, other) -> bool:\n",
    "        if (self > other) or (self == other):\n",
    "            return True\n",
    "        return False\n",
    "\n",
    "\n",
    "class Data(msgspec.Struct):\n",
    "    data: Any | None = None\n"
   ]
  },
  {
   "cell_type": "code",
   "execution_count": 4,
   "id": "cefc9fc1-a520-48c5-ade4-ecc51c806942",
   "metadata": {},
   "outputs": [
    {
     "data": {
      "text/plain": [
       "(True, False, False, True, False, False, True, True)"
      ]
     },
     "execution_count": 4,
     "metadata": {},
     "output_type": "execute_result"
    }
   ],
   "source": [
    "k1 = Key(1, datetime.datetime.fromisoformat(\"2012-09-14\"))\n",
    "k2 = Key(1, datetime.datetime.fromisoformat(\"2000-09-14\"))\n",
    "k3 = Key(1, datetime.datetime.fromisoformat(\"2000-09-14\"))\n",
    "\n",
    "\n",
    "k1 < k2, k1 > k2, k2 < k1, k2 > k1, k2 == k1, k1 == k2, k2 == k3, k3 == k2"
   ]
  },
  {
   "cell_type": "code",
   "execution_count": 5,
   "id": "f1f7cab2-3854-41d0-ab8d-fc7cc4d78d6b",
   "metadata": {},
   "outputs": [],
   "source": [
    "faker.Faker.seed(1)\n",
    "fake = faker.Faker(\"ru_RU\")\n",
    "index = BPTree[Key, Data]()\n",
    "\n",
    "for _ in range(50):\n",
    "    index.insert(\n",
    "        Key(fake.random.randint(0, 9), datetime.datetime.fromisoformat(\"2024-01-01\") - datetime.timedelta(hours = fake.random.randint(0, 100000))),\n",
    "        Data(fake.name())\n",
    "    )"
   ]
  },
  {
   "cell_type": "code",
   "execution_count": 6,
   "id": "fc0bec2d-060c-4455-89b8-64d53a8a826c",
   "metadata": {},
   "outputs": [
    {
     "name": "stdout",
     "output_type": "stream",
     "text": [
      "0 Key(k=2, ts=datetime.datetime(2015, 6, 28, 10, 0)) Data(data='Ангелина Ждановна Ковалева')\n",
      "1 Key(k=7, ts=datetime.datetime(2012, 8, 15, 4, 0)) Data(data='Натан Глебович Белов')\n",
      "2 Key(k=7, ts=datetime.datetime(2023, 7, 30, 5, 0)) Data(data='Мария Оскаровна Кошелева')\n",
      "3 Key(k=0, ts=datetime.datetime(2013, 8, 5, 20, 0)) Data(data='Иван Бориславович Мясников')\n",
      "4 Key(k=5, ts=datetime.datetime(2023, 7, 17, 23, 0)) Data(data='Кулагин Тит Августович')\n",
      "5 Key(k=6, ts=datetime.datetime(2013, 9, 25, 22, 0)) Data(data='Родионов Алексей Гурьевич')\n",
      "6 Key(k=7, ts=datetime.datetime(2016, 8, 2, 5, 0)) Data(data='Коновалова Елизавета Дмитриевна')\n",
      "7 Key(k=7, ts=datetime.datetime(2019, 9, 1, 10, 0)) Data(data='Наина Федоровна Стрелкова')\n",
      "8 Key(k=1, ts=datetime.datetime(2021, 3, 21, 17, 0)) Data(data='Владимирова Кира Васильевна')\n",
      "9 Key(k=5, ts=datetime.datetime(2013, 3, 18, 18, 0)) Data(data='Прасковья Олеговна Селезнева')\n",
      "10 Key(k=3, ts=datetime.datetime(2019, 6, 19, 5, 0)) Data(data='Сигизмунд Юльевич Карпов')\n",
      "11 Key(k=9, ts=datetime.datetime(2023, 6, 26, 11, 0)) Data(data='Олимпий Фёдорович Харитонов')\n",
      "12 Key(k=2, ts=datetime.datetime(2018, 7, 6, 1, 0)) Data(data='Филатова Маргарита Богдановна')\n",
      "13 Key(k=7, ts=datetime.datetime(2014, 1, 28, 0, 0)) Data(data='Гуляева Галина Семеновна')\n",
      "14 Key(k=6, ts=datetime.datetime(2018, 6, 17, 11, 0)) Data(data='Амвросий Харитонович Соловьев')\n",
      "15 Key(k=4, ts=datetime.datetime(2013, 6, 25, 15, 0)) Data(data='Эмилия Эдуардовна Савина')\n",
      "16 Key(k=6, ts=datetime.datetime(2014, 4, 28, 16, 0)) Data(data='Овчинников Зосима Авдеевич')\n",
      "17 Key(k=3, ts=datetime.datetime(2015, 12, 7, 0, 0)) Data(data='Таисия Евгеньевна Маслова')\n",
      "18 Key(k=8, ts=datetime.datetime(2018, 11, 10, 7, 0)) Data(data='Ульяна Матвеевна Рыбакова')\n",
      "19 Key(k=4, ts=datetime.datetime(2014, 2, 21, 20, 0)) Data(data='Кондратьева Агата Натановна')\n",
      "20 Key(k=8, ts=datetime.datetime(2022, 1, 25, 4, 0)) Data(data='Шилова Евфросиния Олеговна')\n",
      "21 Key(k=0, ts=datetime.datetime(2016, 10, 21, 14, 0)) Data(data='Татьяна Тимуровна Медведева')\n",
      "22 Key(k=8, ts=datetime.datetime(2017, 10, 26, 7, 0)) Data(data='Мир Фёдорович Коновалов')\n",
      "23 Key(k=0, ts=datetime.datetime(2015, 12, 13, 5, 0)) Data(data='Устинова Эмилия Леоновна')\n",
      "24 Key(k=7, ts=datetime.datetime(2015, 1, 12, 0, 0)) Data(data='Данилов Демьян Гавриилович')\n",
      "25 Key(k=1, ts=datetime.datetime(2015, 10, 5, 16, 0)) Data(data='Зоя Антоновна Одинцова')\n",
      "26 Key(k=1, ts=datetime.datetime(2022, 10, 3, 11, 0)) Data(data='Нонна Андреевна Симонова')\n",
      "27 Key(k=4, ts=datetime.datetime(2020, 4, 8, 2, 0)) Data(data='Ярополк Гаврилович Коновалов')\n",
      "28 Key(k=4, ts=datetime.datetime(2022, 12, 17, 9, 0)) Data(data='Сидоров Стоян Власович')\n",
      "29 Key(k=4, ts=datetime.datetime(2014, 4, 22, 23, 0)) Data(data='Панова Лидия Святославовна')\n",
      "30 Key(k=7, ts=datetime.datetime(2022, 4, 17, 9, 0)) Data(data='Блинов Мефодий Федосеевич')\n",
      "31 Key(k=3, ts=datetime.datetime(2020, 2, 19, 17, 0)) Data(data='Мясников Сократ Глебович')\n",
      "32 Key(k=9, ts=datetime.datetime(2017, 7, 18, 15, 0)) Data(data='Акулина Дмитриевна Соколова')\n",
      "33 Key(k=6, ts=datetime.datetime(2021, 10, 23, 3, 0)) Data(data='Кондратьев Гостомысл Филатович')\n",
      "34 Key(k=8, ts=datetime.datetime(2013, 11, 10, 7, 0)) Data(data='Ефим Ярославович Савельев')\n",
      "35 Key(k=3, ts=datetime.datetime(2016, 3, 1, 20, 0)) Data(data='Афанасьева Ульяна Леонидовна')\n",
      "36 Key(k=6, ts=datetime.datetime(2023, 2, 13, 23, 0)) Data(data='Гусева Екатерина Альбертовна')\n",
      "37 Key(k=4, ts=datetime.datetime(2022, 12, 10, 18, 0)) Data(data='Ксения Кузьминична Кононова')\n",
      "38 Key(k=2, ts=datetime.datetime(2017, 10, 11, 4, 0)) Data(data='Титова Агафья Федоровна')\n",
      "39 Key(k=0, ts=datetime.datetime(2015, 3, 3, 15, 0)) Data(data='Татьяна Робертовна Романова')\n",
      "40 Key(k=9, ts=datetime.datetime(2016, 5, 22, 21, 0)) Data(data='Медведев Милан Бориславович')\n",
      "41 Key(k=3, ts=datetime.datetime(2015, 6, 5, 14, 0)) Data(data='Горбунова Феврония Георгиевна')\n",
      "42 Key(k=7, ts=datetime.datetime(2022, 6, 9, 17, 0)) Data(data='Мария Кирилловна Селезнева')\n",
      "43 Key(k=7, ts=datetime.datetime(2023, 9, 29, 2, 0)) Data(data='Олег Еремеевич Соколов')\n",
      "44 Key(k=2, ts=datetime.datetime(2020, 12, 30, 2, 0)) Data(data='Татьяна Валентиновна Ширяева')\n",
      "45 Key(k=6, ts=datetime.datetime(2020, 10, 24, 14, 0)) Data(data='Валерий Тарасович Тетерин')\n",
      "46 Key(k=8, ts=datetime.datetime(2018, 11, 10, 3, 0)) Data(data='Синклитикия Рудольфовна Комиссарова')\n",
      "47 Key(k=8, ts=datetime.datetime(2020, 6, 28, 14, 0)) Data(data='Волков Борислав Венедиктович')\n",
      "48 Key(k=2, ts=datetime.datetime(2021, 7, 5, 10, 0)) Data(data='Екатерина Ивановна Мишина')\n",
      "49 Key(k=5, ts=datetime.datetime(2015, 1, 10, 2, 0)) Data(data='Сидорова Маргарита Львовна')\n"
     ]
    }
   ],
   "source": [
    "for i, r in enumerate(index.keys):\n",
    "    print(i, r, index.values[i])"
   ]
  },
  {
   "cell_type": "code",
   "execution_count": 7,
   "id": "7ae202eb-118b-43f9-a8a7-2ebf30e48120",
   "metadata": {},
   "outputs": [
    {
     "data": {
      "text/plain": [
       "{}"
      ]
     },
     "execution_count": 7,
     "metadata": {},
     "output_type": "execute_result"
    }
   ],
   "source": [
    "index.validate()"
   ]
  },
  {
   "cell_type": "code",
   "execution_count": 8,
   "id": "0849ad70-f305-4f7c-ac25-a9e46d492dde",
   "metadata": {},
   "outputs": [
    {
     "name": "stdout",
     "output_type": "stream",
     "text": [
      "\n",
      "node-idx:9, prev:4, next:11, level: 0 \n",
      "|-> Key(k=7, ts=datetime.datetime(2012, 8, 15, 4, 0))\n",
      "|-> Key(k=8, ts=datetime.datetime(2022, 1, 25, 4, 0))\n",
      "|-> Key(k=8, ts=datetime.datetime(2020, 6, 28, 14, 0))\n"
     ]
    }
   ],
   "source": [
    "index.print_node(index.tree[9])"
   ]
  },
  {
   "cell_type": "code",
   "execution_count": 9,
   "id": "2826ef21-3928-45aa-baa9-144586526a5d",
   "metadata": {},
   "outputs": [
    {
     "data": {
      "text/plain": [
       "(Data(data='Шилова Евфросиния Олеговна'),\n",
       " LeafNode(node_index=9, level=0, prev_node=4, next_node=11, pointers=array([ 1, 20, 47], dtype=int32)),\n",
       " 20)"
      ]
     },
     "execution_count": 9,
     "metadata": {},
     "output_type": "execute_result"
    }
   ],
   "source": [
    "index.find(Key(k=8, ts=datetime.datetime(2022, 1, 25, 4, 0)))"
   ]
  },
  {
   "cell_type": "code",
   "execution_count": 10,
   "id": "98113bad-16e1-4b92-8e77-b89842f5f57d",
   "metadata": {},
   "outputs": [
    {
     "data": {
      "text/plain": [
       "Data(data='Шилова Евфросиния Олеговна')"
      ]
     },
     "execution_count": 10,
     "metadata": {},
     "output_type": "execute_result"
    }
   ],
   "source": [
    "index.values[20]"
   ]
  },
  {
   "cell_type": "code",
   "execution_count": 11,
   "id": "516e42b7-5362-46b8-9c6f-120ee4bc3790",
   "metadata": {},
   "outputs": [
    {
     "data": {
      "text/plain": [
       "True"
      ]
     },
     "execution_count": 11,
     "metadata": {},
     "output_type": "execute_result"
    }
   ],
   "source": [
    "index.delete(Key(k=8, ts=datetime.datetime(2022, 1, 25, 4, 0)))"
   ]
  },
  {
   "cell_type": "code",
   "execution_count": 12,
   "id": "6f187874-6119-4679-b616-27a7e12ffa96",
   "metadata": {},
   "outputs": [
    {
     "data": {
      "text/plain": [
       "(None,\n",
       " LeafNode(node_index=9, level=0, prev_node=4, next_node=11, pointers=array([ 1, 20, 47], dtype=int32)),\n",
       " 20)"
      ]
     },
     "execution_count": 12,
     "metadata": {},
     "output_type": "execute_result"
    }
   ],
   "source": [
    "index.find(Key(k=8, ts=datetime.datetime(2022, 1, 25, 4, 0)))"
   ]
  },
  {
   "cell_type": "code",
   "execution_count": 13,
   "id": "f0b9c7fe-1a58-4fe5-99cf-18c66a6155a2",
   "metadata": {},
   "outputs": [],
   "source": [
    "index.values[20]"
   ]
  },
  {
   "cell_type": "code",
   "execution_count": 14,
   "id": "3cca79a9-cc76-4fde-b009-4e4dd79c49e8",
   "metadata": {},
   "outputs": [
    {
     "data": {
      "text/plain": [
       "False"
      ]
     },
     "execution_count": 14,
     "metadata": {},
     "output_type": "execute_result"
    }
   ],
   "source": [
    "index.delete(Key(k=8, ts=datetime.datetime(2022, 1, 25, 4, 0)))"
   ]
  },
  {
   "cell_type": "code",
   "execution_count": 15,
   "id": "14656503-74e2-4a4a-b6ea-2deced06dbed",
   "metadata": {},
   "outputs": [
    {
     "data": {
      "text/plain": [
       "(Data(data='Олимпий Фёдорович Харитонов'),\n",
       " LeafNode(node_index=15, level=0, prev_node=11, next_node=None, pointers=array([11, 32, 40], dtype=int32)),\n",
       " 11)"
      ]
     },
     "execution_count": 15,
     "metadata": {},
     "output_type": "execute_result"
    }
   ],
   "source": [
    "index.find(Key(k=9, ts=datetime.datetime(2023, 6, 26, 11, 0)))"
   ]
  },
  {
   "cell_type": "code",
   "execution_count": 16,
   "id": "d457605e-f626-4d0d-aee8-b45c1298b887",
   "metadata": {},
   "outputs": [
    {
     "data": {
      "text/plain": [
       "(Data(data='Акулина Дмитриевна Соколова'),\n",
       " LeafNode(node_index=15, level=0, prev_node=11, next_node=None, pointers=array([11, 32, 40], dtype=int32)),\n",
       " 32)"
      ]
     },
     "execution_count": 16,
     "metadata": {},
     "output_type": "execute_result"
    }
   ],
   "source": [
    "index.find(Key(k=9, ts=datetime.datetime(2017, 7, 18, 15, 0)))"
   ]
  },
  {
   "cell_type": "code",
   "execution_count": 17,
   "id": "c5e59bcc-751e-4a42-98dc-b8e17860693c",
   "metadata": {},
   "outputs": [
    {
     "data": {
      "text/plain": [
       "Data(data='Акулина Дмитриевна Соколова')"
      ]
     },
     "execution_count": 17,
     "metadata": {},
     "output_type": "execute_result"
    }
   ],
   "source": [
    "index.values[32]"
   ]
  },
  {
   "cell_type": "code",
   "execution_count": 18,
   "id": "e4e5945c-34d0-4a08-8fcd-77be892d2572",
   "metadata": {},
   "outputs": [
    {
     "data": {
      "text/plain": [
       "True"
      ]
     },
     "execution_count": 18,
     "metadata": {},
     "output_type": "execute_result"
    }
   ],
   "source": [
    "index.delete(Key(k=9, ts=datetime.datetime(2017, 7, 18, 15, 0)))"
   ]
  },
  {
   "cell_type": "code",
   "execution_count": 19,
   "id": "f0ee4e07-0472-416b-86c4-d457e64d599b",
   "metadata": {},
   "outputs": [
    {
     "data": {
      "text/plain": [
       "{}"
      ]
     },
     "execution_count": 19,
     "metadata": {},
     "output_type": "execute_result"
    }
   ],
   "source": [
    "index.validate()"
   ]
  },
  {
   "cell_type": "code",
   "execution_count": 20,
   "id": "d2beb7e7-38f7-4829-9ba4-e7925b4153e3",
   "metadata": {},
   "outputs": [
    {
     "data": {
      "text/plain": [
       "False"
      ]
     },
     "execution_count": 20,
     "metadata": {},
     "output_type": "execute_result"
    }
   ],
   "source": [
    "index.delete(Key(k=9, ts=datetime.datetime(2017, 7, 18, 15, 0)))"
   ]
  },
  {
   "cell_type": "code",
   "execution_count": 21,
   "id": "8f224ef7-9a86-435e-bb96-2ddc8307be7a",
   "metadata": {},
   "outputs": [
    {
     "data": {
      "text/plain": [
       "(32, None)"
      ]
     },
     "execution_count": 21,
     "metadata": {},
     "output_type": "execute_result"
    }
   ],
   "source": [
    "index.insert(Key(k=9, ts=datetime.datetime(2017, 7, 18, 15, 0)), Data(\"REPLACED\"))"
   ]
  },
  {
   "cell_type": "code",
   "execution_count": 22,
   "id": "1f721592-9d61-4ec5-a102-ca6eb093ee38",
   "metadata": {},
   "outputs": [
    {
     "data": {
      "text/plain": [
       "(None, 32)"
      ]
     },
     "execution_count": 22,
     "metadata": {},
     "output_type": "execute_result"
    }
   ],
   "source": [
    "index.insert(Key(k=9, ts=datetime.datetime(2017, 7, 18, 15, 0)), Data(\"REPLACED\"))"
   ]
  },
  {
   "cell_type": "code",
   "execution_count": 23,
   "id": "06bb732e-44d6-4ca9-8821-f33e214e1562",
   "metadata": {},
   "outputs": [
    {
     "data": {
      "text/plain": [
       "Data(data='REPLACED')"
      ]
     },
     "execution_count": 23,
     "metadata": {},
     "output_type": "execute_result"
    }
   ],
   "source": [
    "index.values[32]"
   ]
  },
  {
   "cell_type": "code",
   "execution_count": 24,
   "id": "5c7abe46-d05a-45c7-baa0-01a676564c1c",
   "metadata": {},
   "outputs": [
    {
     "data": {
      "text/plain": [
       "True"
      ]
     },
     "execution_count": 24,
     "metadata": {},
     "output_type": "execute_result"
    }
   ],
   "source": [
    "index.delete(Key(k=9, ts=datetime.datetime(2017, 7, 18, 15, 0)))"
   ]
  },
  {
   "cell_type": "code",
   "execution_count": 25,
   "id": "4ced02a1-da40-4b1b-a157-9a459fd62396",
   "metadata": {},
   "outputs": [
    {
     "data": {
      "text/plain": [
       "(32, None)"
      ]
     },
     "execution_count": 25,
     "metadata": {},
     "output_type": "execute_result"
    }
   ],
   "source": [
    "index.insert(Key(k=9, ts=datetime.datetime(2017, 7, 18, 15, 0)), Data( \"REPLACED: \" + fake.name()))"
   ]
  },
  {
   "cell_type": "code",
   "execution_count": 26,
   "id": "05b79eee-4587-4447-9a67-2b642c21de0f",
   "metadata": {},
   "outputs": [
    {
     "data": {
      "text/plain": [
       "Data(data='REPLACED: Кузьма Данилович Беспалов')"
      ]
     },
     "execution_count": 26,
     "metadata": {},
     "output_type": "execute_result"
    }
   ],
   "source": [
    "index.values[32]"
   ]
  },
  {
   "cell_type": "code",
   "execution_count": 27,
   "id": "48f9bfbf-c77b-4b29-9ca2-80c58f17cf6d",
   "metadata": {},
   "outputs": [
    {
     "data": {
      "text/plain": [
       "{}"
      ]
     },
     "execution_count": 27,
     "metadata": {},
     "output_type": "execute_result"
    }
   ],
   "source": [
    "index.validate()"
   ]
  },
  {
   "cell_type": "code",
   "execution_count": null,
   "id": "e83879e7-1965-4c11-ac41-93a953541ba0",
   "metadata": {},
   "outputs": [],
   "source": []
  }
 ],
 "metadata": {
  "kernelspec": {
   "display_name": "Python 3 (ipykernel)",
   "language": "python",
   "name": "python3"
  },
  "language_info": {
   "codemirror_mode": {
    "name": "ipython",
    "version": 3
   },
   "file_extension": ".py",
   "mimetype": "text/x-python",
   "name": "python",
   "nbconvert_exporter": "python",
   "pygments_lexer": "ipython3",
   "version": "3.12.2"
  }
 },
 "nbformat": 4,
 "nbformat_minor": 5
}
