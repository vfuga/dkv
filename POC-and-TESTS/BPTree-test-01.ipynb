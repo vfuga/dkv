{
 "cells": [
  {
   "cell_type": "code",
   "execution_count": 1,
   "id": "72d4ef03-cb30-45fc-81b3-377650de23da",
   "metadata": {},
   "outputs": [],
   "source": [
    "import sys\n",
    "sys.path.append(\"..\")\n",
    "import msgspec\n",
    "import faker\n",
    "from tqdm.auto import tqdm\n",
    "from typing import Any, cast\n",
    "import pickle\n",
    "import gc\n"
   ]
  },
  {
   "cell_type": "code",
   "execution_count": 2,
   "id": "a1fb1efc-409d-403a-b17b-b46524fe9691",
   "metadata": {},
   "outputs": [],
   "source": [
    "fake = faker.Faker(\"ru_RU\")"
   ]
  },
  {
   "cell_type": "code",
   "execution_count": 3,
   "id": "aa1ffe77-70f6-4676-b345-1bd5e23089ce",
   "metadata": {},
   "outputs": [],
   "source": [
    "from dkvs.bptree import BPTree\n",
    "BPTree.HALF_INODE_SIZE = 32\n",
    "BPTree.MAX_INODE_SIZE = BPTree.HALF_INODE_SIZE * 2\n",
    "BPTree.HALF_LEAF_SIZE = 32\n",
    "BPTree.MAX_LEAF_SIZE = BPTree.HALF_LEAF_SIZE * 2"
   ]
  },
  {
   "cell_type": "code",
   "execution_count": 4,
   "id": "c8b344ef-3b4f-4fb9-9ebe-2fc1b6b4403c",
   "metadata": {},
   "outputs": [],
   "source": [
    "class MyKey(msgspec.Struct, frozen=True, order=True):\n",
    "    full_name: str\n",
    "\n",
    "class Data(msgspec.Struct):\n",
    "    data: Any"
   ]
  },
  {
   "cell_type": "code",
   "execution_count": 5,
   "id": "7734c208-2817-4000-966b-4401c06c8a77",
   "metadata": {},
   "outputs": [],
   "source": [
    "index = BPTree[MyKey, Data]()"
   ]
  },
  {
   "cell_type": "code",
   "execution_count": 6,
   "id": "14260fda-692c-4f75-9d16-ec4fa6c7632b",
   "metadata": {},
   "outputs": [],
   "source": [
    "faker.Faker.seed(1)\n",
    "fake = faker.Faker(\"ru_RU\")"
   ]
  },
  {
   "cell_type": "code",
   "execution_count": 7,
   "id": "b59c34b6-b748-4395-993b-033e69e7f8a3",
   "metadata": {},
   "outputs": [
    {
     "data": {
      "text/plain": [
       "340"
      ]
     },
     "execution_count": 7,
     "metadata": {},
     "output_type": "execute_result"
    }
   ],
   "source": [
    "data = []\n",
    "gc.collect()"
   ]
  },
  {
   "cell_type": "code",
   "execution_count": 8,
   "id": "eaf73f3f-b6f2-45ac-9986-ef552a91285a",
   "metadata": {},
   "outputs": [
    {
     "data": {
      "application/vnd.jupyter.widget-view+json": {
       "model_id": "4e7147873dd643708cbeb510e783841e",
       "version_major": 2,
       "version_minor": 0
      },
      "text/plain": [
       "  0%|          | 0/10000000 [00:00<?, ?it/s]"
      ]
     },
     "metadata": {},
     "output_type": "display_data"
    },
    {
     "name": "stdout",
     "output_type": "stream",
     "text": [
      "CPU times: user 8min 35s, sys: 5.92 s, total: 8min 41s\n",
      "Wall time: 8min 39s\n"
     ]
    }
   ],
   "source": [
    "%%time\n",
    "for i in tqdm(range(10_000_000)):\n",
    "    val = fake.name() + \" - \" + str(i)\n",
    "    if index.insert(MyKey(val)) is None:\n",
    "        print(f\"Duplicate key: {val}\")\n",
    "    data.append(val)"
   ]
  },
  {
   "cell_type": "code",
   "execution_count": 9,
   "id": "6d51dbba-4fb0-4139-8bd8-f169e48fc085",
   "metadata": {},
   "outputs": [
    {
     "data": {
      "text/plain": [
       "({}, 18)"
      ]
     },
     "execution_count": 9,
     "metadata": {},
     "output_type": "execute_result"
    }
   ],
   "source": [
    "index.validate(), gc.collect()"
   ]
  },
  {
   "cell_type": "code",
   "execution_count": 14,
   "id": "b03d008c-8bdc-40ca-a9c4-71a738d7c6a8",
   "metadata": {},
   "outputs": [
    {
     "data": {
      "text/plain": [
       "(10000000, 19193.857965451054)"
      ]
     },
     "execution_count": 14,
     "metadata": {},
     "output_type": "execute_result"
    }
   ],
   "source": [
    "len(data), len(data) / (60 * 8 + 41)"
   ]
  },
  {
   "cell_type": "code",
   "execution_count": 15,
   "id": "a3221a96-6547-4d74-87d5-33bf4319ee87",
   "metadata": {},
   "outputs": [
    {
     "name": "stdout",
     "output_type": "stream",
     "text": [
      "\n",
      "node-idx:179756, prev:None, next:None, level: 4  <============ *ROOT*\n",
      "            |-> MyKey(full_name='Майя Робертовна Миронова - 474'): 3224, 179755\n"
     ]
    }
   ],
   "source": [
    "index.print_node(index.tree[index.root_node])"
   ]
  },
  {
   "cell_type": "code",
   "execution_count": 16,
   "id": "b1cfeed3-0ee0-48f5-9583-2940a947c1e4",
   "metadata": {},
   "outputs": [
    {
     "name": "stdout",
     "output_type": "stream",
     "text": [
      "\n",
      "node-idx:3224, prev:None, next:179755, level: 3 \n",
      "         |-> MyKey(full_name='Агата Кузьминична Фокина - 28887'): 68, 164615\n",
      "         |-> MyKey(full_name='Азарий Архипович Сазонов - 53200'): 164615, 86428\n",
      "         |-> MyKey(full_name='Александр Богданович Тимофеев - 36711'): 86428, 183869\n",
      "         |-> MyKey(full_name='Алина Натановна Киселева - 1283'): 183869, 46041\n",
      "         |-> MyKey(full_name='Анастасия Харитоновна Нестерова - 5122'): 46041, 187738\n",
      "         |-> MyKey(full_name='Анжела Ивановна Красильникова - 12110'): 187738, 99426\n",
      "         |-> MyKey(full_name='Анисимова Майя Михайловна - 62705'): 99426, 198609\n",
      "         |-> MyKey(full_name='Антонов Януарий Филимонович - 1145'): 198609, 24260\n",
      "         |-> MyKey(full_name='Архип Феодосьевич Евсеев - 5994'): 24260, 183515\n",
      "         |-> MyKey(full_name='Баранов Порфирий Тимурович - 9540'): 183515, 92506\n",
      "         |-> MyKey(full_name='Беляева Фаина Степановна - 141362'): 92506, 179754\n",
      "         |-> MyKey(full_name='Бобров Аристарх Ануфриевич - 11828'): 179754, 48088\n",
      "         |-> MyKey(full_name='Большакова Наталья Геннадьевна - 6264'): 48088, 187588\n",
      "         |-> MyKey(full_name='Бурова Екатерина Георгиевна - 3713'): 187588, 96861\n",
      "         |-> MyKey(full_name='Валерия Евгеньевна Медведева - 21942'): 96861, 190697\n",
      "         |-> MyKey(full_name='Василиса Даниловна Никонова - 7638'): 190697, 12330\n",
      "         |-> MyKey(full_name='Вера Ждановна Афанасьева - 9467'): 12330, 208117\n",
      "         |-> MyKey(full_name='Викторин Игоревич Жданов - 14662'): 208117, 109200\n",
      "         |-> MyKey(full_name='Вишнякова Прасковья Валериевна - 38940'): 109200, 211911\n",
      "         |-> MyKey(full_name='Волков Творимир Трифонович - 4421'): 211911, 55155\n",
      "         |-> MyKey(full_name='Всемил Ефимьевич Лебедев - 13136'): 55155, 204688\n",
      "         |-> MyKey(full_name='Галина Робертовна Ермакова - 30597'): 204688, 101112\n",
      "         |-> MyKey(full_name='Герман Ильясович Марков - 25027'): 101112, 201730\n",
      "         |-> MyKey(full_name='Горбунов Эммануил Федосьевич - 351'): 201730, 28619\n",
      "         |-> MyKey(full_name='Григорьев Ипат Трофимович - 34156'): 28619, 208926\n",
      "         |-> MyKey(full_name='Гурьев Валентин Валерьянович - 19303'): 208926, 110078\n",
      "         |-> MyKey(full_name='Давыдова Регина Игоревна - 26179'): 110078, 213763\n",
      "         |-> MyKey(full_name='Дементьев Федосий Артёмович - 5633'): 213763, 57961\n",
      "         |-> MyKey(full_name='Дмитрий Тихонович Исаев - 17042'): 57961, 219333\n",
      "         |-> MyKey(full_name='Дроздова Полина Антоновна - 35049'): 219333, 111464\n",
      "         |-> MyKey(full_name='Евдоким Харитонович Туров - 10684'): 111464, 210436\n",
      "         |-> MyKey(full_name='Евпраксия Тимофеевна Русакова - 24'): 210436, 6414\n",
      "         |-> MyKey(full_name='Екатерина Петровна Кудряшова - 18499'): 6414, 120636\n",
      "         |-> MyKey(full_name='Елизар Абрамович Денисов - 82612'): 120636, 227953\n",
      "         |-> MyKey(full_name='Еремей Филиппович Лыткин - 18771'): 227953, 57144\n",
      "         |-> MyKey(full_name='Жданов Алексей Даниилович - 21265'): 57144, 113559\n",
      "         |-> MyKey(full_name='Захар Викентьевич Сысоев - 5344'): 113559, 214074\n",
      "         |-> MyKey(full_name='Зиновий Вилорович Шарапов - 10823'): 214074, 30950\n",
      "         |-> MyKey(full_name='Иванова Агафья Павловна - 76801'): 30950, 114674\n",
      "         |-> MyKey(full_name='Изяслав Бориславович Сафонов - 68197'): 114674, 228492\n",
      "         |-> MyKey(full_name='Ипполит Александрович Назаров - 25017'): 228492, 60685\n",
      "         |-> MyKey(full_name='Ия Ильинична Лазарева - 10694'): 60685, 126416\n",
      "         |-> MyKey(full_name='Капустина Юлия Ждановна - 915'): 126416, 14533\n",
      "         |-> MyKey(full_name='Кира Эльдаровна Зуева - 6436'): 14533, 196082\n",
      "         |-> MyKey(full_name='Клавдия Филипповна Калашникова - 32695'): 196082, 108880\n",
      "         |-> MyKey(full_name='Кондрат Ерофеевич Одинцов - 28786'): 108880, 54771\n",
      "         |-> MyKey(full_name='Корнилова Нина Максимовна - 4847'): 54771, 110169\n",
      "         |-> MyKey(full_name='Красильников Клавдий Данилович - 14484'): 110169, 200339\n",
      "         |-> MyKey(full_name='Кудрявцев Арсений Авдеевич - 5583'): 200339, 27106\n",
      "         |-> MyKey(full_name='Кузьмина Любовь Кузьминична - 6091'): 27106, 220640\n",
      "         |-> MyKey(full_name='Лаврентий Филиппович Абрамов - 39138'): 220640, 109854\n",
      "         |-> MyKey(full_name='Ларионов Мирон Чеславович - 54834'): 109854, 207642\n",
      "         |-> MyKey(full_name='Леонид Ефремович Ситников - 22614'): 207642, 51274\n",
      "         |-> MyKey(full_name='Лобанова Надежда Станиславовна - 43327'): 51274, 193560\n",
      "         |-> MyKey(full_name='Лукия Александровна Колесникова - 10157'): 193560, 103264\n",
      "         |-> MyKey(full_name='Любовь Егоровна Ефремова - 964'): 103264, 202011\n"
     ]
    }
   ],
   "source": [
    "index.print_node(index.tree[3224])"
   ]
  },
  {
   "cell_type": "code",
   "execution_count": 17,
   "id": "2a6a6fa8-2736-4318-9082-cac9b416aac4",
   "metadata": {},
   "outputs": [
    {
     "name": "stdout",
     "output_type": "stream",
     "text": [
      "\n",
      "node-idx:179755, prev:3224, next:None, level: 3 \n",
      "         |-> MyKey(full_name='Майя Робертовна Миронова - 474'): 103264, 3223\n",
      "         |-> MyKey(full_name='Марина Вениаминовна Самойлова - 4393'): 3223, 133937\n",
      "         |-> MyKey(full_name='Марфа Максимовна Назарова - 38618'): 133937, 70929\n",
      "         |-> MyKey(full_name='Мечислав Зиновьевич Кондратьев - 12594'): 70929, 139938\n",
      "         |-> MyKey(full_name='Михаил Богданович Филатов - 3164'): 139938, 31764\n",
      "         |-> MyKey(full_name='Моисеев Аникита Власович - 174545'): 31764, 214937\n",
      "         |-> MyKey(full_name='Морозова Надежда Владиславовна - 14467'): 214937, 115772\n",
      "         |-> MyKey(full_name='Наина Кирилловна Копылова - 1642'): 115772, 60712\n",
      "         |-> MyKey(full_name='Нестерова Надежда Даниловна - 14881'): 60712, 131464\n",
      "         |-> MyKey(full_name='Никонов Трофим Фомич - 3809'): 131464, 15080\n",
      "         |-> MyKey(full_name='Нинель Эдуардовна Фомичева - 60762'): 15080, 219385\n",
      "         |-> MyKey(full_name='Носов Савватий Юльевич - 37715'): 219385, 111315\n",
      "         |-> MyKey(full_name='Оксана Тимуровна Осипова - 42755'): 111315, 219554\n",
      "         |-> MyKey(full_name='Ольга Александровна Дорофеева - 6089'): 219554, 57279\n",
      "         |-> MyKey(full_name='Осип Адрианович Котов - 15947'): 57279, 213501\n",
      "         |-> MyKey(full_name='Панкратий Анатольевич Савельев - 13670'): 213501, 111524\n",
      "         |-> MyKey(full_name='Пахом Демьянович Михеев - 32037'): 111524, 212292\n",
      "         |-> MyKey(full_name='Петр Тимурович Пестов - 22721'): 212292, 28312\n",
      "         |-> MyKey(full_name='Полина Львовна Емельянова - 3962'): 28312, 218262\n",
      "         |-> MyKey(full_name='Порфирий Тихонович Марков - 45079'): 218262, 109006\n",
      "         |-> MyKey(full_name='Прокофий Витальевич Ершов - 29458'): 109006, 228520\n",
      "         |-> MyKey(full_name='Раиса Тимофеевна Фомичева - 1644'): 228520, 57792\n",
      "         |-> MyKey(full_name='Родионов Панфил Игнатьевич - 6956'): 57792, 219937\n",
      "         |-> MyKey(full_name='Русаков Ермолай Вилорович - 12806'): 219937, 109243\n",
      "         |-> MyKey(full_name='Савва Брониславович Кириллов - 60428'): 109243, 225854\n",
      "         |-> MyKey(full_name='Сазонова Лариса Вениаминовна - 796'): 225854, 7505\n",
      "         |-> MyKey(full_name='Селезнева Нина Филипповна - 12468'): 7505, 118164\n",
      "         |-> MyKey(full_name='Сила Яковлевич Куликов - 22668'): 118164, 59211\n",
      "         |-> MyKey(full_name='Соболева Кира Ивановна - 29719'): 59211, 117847\n",
      "         |-> MyKey(full_name='Сорокина Ольга Валентиновна - 7270'): 117847, 223101\n",
      "         |-> MyKey(full_name='Степан Артурович Петров - 20250'): 223101, 30140\n",
      "         |-> MyKey(full_name='Сысоева Нинель Вячеславовна - 56029'): 30140, 129023\n",
      "         |-> MyKey(full_name='Творимир Гертрудович Анисимов - 36967'): 129023, 65834\n",
      "         |-> MyKey(full_name='Тихонов Твердислав Антипович - 53215'): 65834, 126487\n",
      "         |-> MyKey(full_name='Ульяна Рудольфовна Цветкова - 3006'): 126487, 14894\n",
      "         |-> MyKey(full_name='Федоров Мечислав Устинович - 29466'): 14894, 113523\n",
      "         |-> MyKey(full_name='Феликс Абрамович Овчинников - 41115'): 113523, 221316\n",
      "         |-> MyKey(full_name='Филиппов Прокофий Венедиктович - 6281'): 221316, 52600\n",
      "         |-> MyKey(full_name='Фомина Пелагея Рудольфовна - 42684'): 52600, 191860\n",
      "         |-> MyKey(full_name='Фёкла Олеговна Орехова - 15652'): 191860, 100911\n",
      "         |-> MyKey(full_name='Цветкова Лидия Архиповна - 50162'): 100911, 209403\n",
      "         |-> MyKey(full_name='Шашков Лавр Эдгарович - 7728'): 209403, 28811\n",
      "         |-> MyKey(full_name='Шубин Поликарп Изотович - 51869'): 28811, 227799\n",
      "         |-> MyKey(full_name='Элеонора Леоновна Тарасова - 7452'): 227799, 109830\n",
      "         |-> MyKey(full_name='Эрнст Ефремович Хохлов - 16796'): 109830, 214576\n",
      "         |-> MyKey(full_name='Юрий Фролович Кошелев - 11722'): 214576, 57727\n",
      "         |-> MyKey(full_name='г-н Гурьев Милован Августович - 22699'): 57727, 116308\n",
      "         |-> MyKey(full_name='тов. Данилов Митофан Данилович - 9842'): 116308, 220583\n"
     ]
    }
   ],
   "source": [
    "index.print_node(index.tree[179755])"
   ]
  },
  {
   "cell_type": "code",
   "execution_count": null,
   "id": "b0e5d013-1f13-4f31-91a5-66cd15b55bef",
   "metadata": {},
   "outputs": [],
   "source": []
  }
 ],
 "metadata": {
  "kernelspec": {
   "display_name": "Python 3 (ipykernel)",
   "language": "python",
   "name": "python3"
  },
  "language_info": {
   "codemirror_mode": {
    "name": "ipython",
    "version": 3
   },
   "file_extension": ".py",
   "mimetype": "text/x-python",
   "name": "python",
   "nbconvert_exporter": "python",
   "pygments_lexer": "ipython3",
   "version": "3.12.2"
  }
 },
 "nbformat": 4,
 "nbformat_minor": 5
}
