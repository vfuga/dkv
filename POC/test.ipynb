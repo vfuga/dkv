{
 "cells": [
  {
   "cell_type": "code",
   "execution_count": 1,
   "id": "f1ebe0e1-72dd-4469-8704-1ccb2c2a7b56",
   "metadata": {},
   "outputs": [],
   "source": [
    "import msgspec"
   ]
  },
  {
   "cell_type": "code",
   "execution_count": 2,
   "id": "6fa9b5bf-afec-4e5f-afa2-e559c0410c88",
   "metadata": {},
   "outputs": [],
   "source": [
    "keys = [\n",
    "    (\"8723652\", 187632),\n",
    "    (\"3324\", 12),\n",
    "    (\"01\", 1200000),\n",
    "    (\"0\", 12001),\n",
    "    (\"134131\", -99),\n",
    "    (\"999034\", 888324)\n",
    "]"
   ]
  },
  {
   "cell_type": "code",
   "execution_count": 3,
   "id": "41a47c1b-7b14-4717-9b1a-be2cc0288c95",
   "metadata": {},
   "outputs": [],
   "source": [
    "order = [i for i in range(len(keys))]"
   ]
  },
  {
   "cell_type": "code",
   "execution_count": 4,
   "id": "9671aff9-e790-448c-be14-e3e62cf9e5cb",
   "metadata": {},
   "outputs": [
    {
     "data": {
      "text/plain": [
       "([('8723652', 187632),\n",
       "  ('3324', 12),\n",
       "  ('01', 1200000),\n",
       "  ('0', 12001),\n",
       "  ('134131', -99),\n",
       "  ('999034', 888324)],\n",
       " [0, 1, 2, 3, 4, 5])"
      ]
     },
     "execution_count": 4,
     "metadata": {},
     "output_type": "execute_result"
    }
   ],
   "source": [
    "keys, order"
   ]
  },
  {
   "cell_type": "code",
   "execution_count": 5,
   "id": "adac07f1-181a-4c91-9b80-d65d29498ca5",
   "metadata": {},
   "outputs": [],
   "source": [
    "order.sort(key=lambda i: keys[i][0])"
   ]
  },
  {
   "cell_type": "code",
   "execution_count": 6,
   "id": "b1618064-2973-47fc-b5e3-d0788885d4f2",
   "metadata": {},
   "outputs": [
    {
     "data": {
      "text/plain": [
       "[3, 2, 4, 1, 0, 5]"
      ]
     },
     "execution_count": 6,
     "metadata": {},
     "output_type": "execute_result"
    }
   ],
   "source": [
    "order"
   ]
  },
  {
   "cell_type": "code",
   "execution_count": 7,
   "id": "92f8c0d9-71f0-4074-a280-91cd1241ccfa",
   "metadata": {},
   "outputs": [
    {
     "name": "stdout",
     "output_type": "stream",
     "text": [
      "('0', 12001)\n",
      "('01', 1200000)\n",
      "('134131', -99)\n",
      "('3324', 12)\n",
      "('8723652', 187632)\n",
      "('999034', 888324)\n"
     ]
    }
   ],
   "source": [
    "for p in order:\n",
    "    print(keys[p])"
   ]
  },
  {
   "cell_type": "code",
   "execution_count": null,
   "id": "387b35d9-e5c3-4a12-9725-3d765ee5198a",
   "metadata": {},
   "outputs": [],
   "source": []
  },
  {
   "cell_type": "code",
   "execution_count": 8,
   "id": "7963a2a8-3c96-4e44-930d-f448cf0d90dc",
   "metadata": {},
   "outputs": [],
   "source": [
    "from typing import List, Generic, TypeVar\n",
    "K = TypeVar('K')\n",
    "\n",
    "class SortedList(Generic[K]):\n",
    "    def __init__(self, lst = List[K]):\n",
    "        self.lst = lst\n",
    "        self.lst.sort(key=lambda e: e[1])\n",
    "        print(self.lst)\n"
   ]
  },
  {
   "cell_type": "code",
   "execution_count": 9,
   "id": "ad840322-e8ce-4a67-91fc-250cd41959e0",
   "metadata": {},
   "outputs": [],
   "source": [
    "l = [\n",
    "    (1,2,3),\n",
    "    (1,4,0),\n",
    "    (5,0,1),\n",
    "    (1,-1,11)\n",
    "]"
   ]
  },
  {
   "cell_type": "code",
   "execution_count": 10,
   "id": "c6f277db-3033-48a7-b8e9-f49bdcd47240",
   "metadata": {},
   "outputs": [
    {
     "name": "stdout",
     "output_type": "stream",
     "text": [
      "[(1, -1, 11), (5, 0, 1), (1, 2, 3), (1, 4, 0)]\n"
     ]
    },
    {
     "data": {
      "text/plain": [
       "<__main__.SortedList at 0x7f0f4c4c52e0>"
      ]
     },
     "execution_count": 10,
     "metadata": {},
     "output_type": "execute_result"
    }
   ],
   "source": [
    "SortedList(l)"
   ]
  },
  {
   "cell_type": "code",
   "execution_count": 1,
   "id": "800b8eee-8824-4d87-9a43-196dc96d0b6b",
   "metadata": {},
   "outputs": [],
   "source": [
    "import msgspec"
   ]
  },
  {
   "cell_type": "code",
   "execution_count": null,
   "id": "90253f9f-0a5e-431b-8714-e5f8d6278741",
   "metadata": {},
   "outputs": [],
   "source": []
  },
  {
   "cell_type": "code",
   "execution_count": null,
   "id": "f7bb04c3-de25-4388-8534-ae961f11c8d6",
   "metadata": {},
   "outputs": [],
   "source": []
  },
  {
   "cell_type": "code",
   "execution_count": null,
   "id": "b0e4311f-bf00-4105-8113-38b5fb5d9898",
   "metadata": {},
   "outputs": [],
   "source": []
  },
  {
   "cell_type": "code",
   "execution_count": null,
   "id": "7f903ca8-cfaf-4613-8e6a-bd749ac90002",
   "metadata": {},
   "outputs": [],
   "source": []
  },
  {
   "cell_type": "code",
   "execution_count": 5,
   "id": "580a40eb-a660-4152-ac63-ad752d389994",
   "metadata": {},
   "outputs": [],
   "source": [
    "class Node (msgspec.Struct):\n",
    "    prev_node: int | None = None\n",
    "    next_node: int | None = None\n",
    "    node_index: int | None = None"
   ]
  },
  {
   "cell_type": "code",
   "execution_count": 9,
   "id": "5218e3c3-fdc9-4569-a552-a29974faf6a5",
   "metadata": {},
   "outputs": [],
   "source": [
    "lst = [Node(), Node(), Node()]"
   ]
  },
  {
   "cell_type": "code",
   "execution_count": 15,
   "id": "26f8c6e9-370e-4a9e-a257-78798c7faae6",
   "metadata": {},
   "outputs": [],
   "source": [
    "lst[0].node_index, lst[2].node_index, lst[1].node_index = (0, 1, 2)"
   ]
  },
  {
   "cell_type": "code",
   "execution_count": 16,
   "id": "01bfd153-8c6c-49dc-8d08-454c38d0aa8c",
   "metadata": {},
   "outputs": [
    {
     "data": {
      "text/plain": [
       "[Node(prev_node=None, next_node=None, node_index=0),\n",
       " Node(prev_node=None, next_node=None, node_index=2),\n",
       " Node(prev_node=None, next_node=None, node_index=1)]"
      ]
     },
     "execution_count": 16,
     "metadata": {},
     "output_type": "execute_result"
    }
   ],
   "source": [
    "lst"
   ]
  },
  {
   "cell_type": "code",
   "execution_count": 19,
   "id": "f77b9910-328b-47e3-ad3a-72b0adb13316",
   "metadata": {},
   "outputs": [],
   "source": [
    "lst[0].next_node = lst[2].node_index\n",
    "lst[2].prev_node = lst[0].node_index"
   ]
  },
  {
   "cell_type": "code",
   "execution_count": 20,
   "id": "42a8fbe7-f0fa-4445-8ebc-ac67b8e13068",
   "metadata": {},
   "outputs": [
    {
     "data": {
      "text/plain": [
       "[Node(prev_node=None, next_node=1, node_index=0),\n",
       " Node(prev_node=None, next_node=None, node_index=2),\n",
       " Node(prev_node=0, next_node=None, node_index=1)]"
      ]
     },
     "execution_count": 20,
     "metadata": {},
     "output_type": "execute_result"
    }
   ],
   "source": [
    "lst"
   ]
  },
  {
   "cell_type": "code",
   "execution_count": null,
   "id": "b587fc4d-c220-45fa-a543-b95c2d48667e",
   "metadata": {},
   "outputs": [],
   "source": [
    "lst[1].prev_node = lst[0].node_index\n",
    "lst[1].next_node= lst[0].next_node\n",
    "lst[2].prev_node = lst"
   ]
  }
 ],
 "metadata": {
  "kernelspec": {
   "display_name": "Python 3 (ipykernel)",
   "language": "python",
   "name": "python3"
  },
  "language_info": {
   "codemirror_mode": {
    "name": "ipython",
    "version": 3
   },
   "file_extension": ".py",
   "mimetype": "text/x-python",
   "name": "python",
   "nbconvert_exporter": "python",
   "pygments_lexer": "ipython3",
   "version": "3.12.1"
  }
 },
 "nbformat": 4,
 "nbformat_minor": 5
}
